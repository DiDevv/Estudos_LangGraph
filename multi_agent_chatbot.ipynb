{
 "cells": [
  {
   "cell_type": "code",
   "execution_count": 1,
   "metadata": {},
   "outputs": [],
   "source": [
    "from dotenv import load_dotenv\n",
    "import os\n",
    "\n",
    "load_dotenv()\n",
    "\n",
    "openai_api_key = os.getenv(\"OPENAI_API_KEY\")\n",
    "tavily_api_key = os.getenv(\"TAVILY_API_KEY\")"
   ]
  },
  {
   "cell_type": "code",
   "execution_count": 2,
   "metadata": {},
   "outputs": [
    {
     "data": {
      "text/plain": [
       "AIMessage(content='Hello! How can I assist you today?', additional_kwargs={'refusal': None}, response_metadata={'token_usage': {'completion_tokens': 9, 'prompt_tokens': 11, 'total_tokens': 20, 'completion_tokens_details': {'reasoning_tokens': 0}}, 'model_name': 'gpt-3.5-turbo-0125', 'system_fingerprint': None, 'finish_reason': 'stop', 'logprobs': None}, id='run-ed5d6ee6-3075-49ab-ba6b-ea35ce51e723-0', usage_metadata={'input_tokens': 11, 'output_tokens': 9, 'total_tokens': 20})"
      ]
     },
     "execution_count": 2,
     "metadata": {},
     "output_type": "execute_result"
    }
   ],
   "source": [
    "from langchain_openai import ChatOpenAI\n",
    "\n",
    "llm = ChatOpenAI()\n",
    "llm.invoke(\"Hello, world!\")"
   ]
  },
  {
   "cell_type": "code",
   "execution_count": 3,
   "metadata": {},
   "outputs": [],
   "source": [
    "from langgraph.graph import StateGraph\n",
    "from langgraph.graph.message import add_messages\n",
    "from typing_extensions import TypedDict\n",
    "from typing import Annotated\n",
    "\n",
    "\n",
    "class State(TypedDict):\n",
    "    query: Annotated[list, add_messages]\n",
    "    research: Annotated[list, add_messages]\n",
    "    content: str\n",
    "    content_ready: bool\n",
    "    iteration_count: int  # Counter for iterations\n",
    "\n",
    "# Initialize the StateGraph\n",
    "graph = StateGraph(State)"
   ]
  },
  {
   "cell_type": "code",
   "execution_count": 4,
   "metadata": {},
   "outputs": [],
   "source": [
    "from langchain_community.tools.tavily_search import TavilySearchResults\n",
    "from langchain_openai import ChatOpenAI\n",
    "\n",
    "llm = ChatOpenAI(model=\"gpt-3.5-turbo\", temperature=0)\n",
    "\n",
    "class ResearchAgent:\n",
    "    def __init__(self):\n",
    "        pass\n",
    "\n",
    "    def format_search(self, query: str) -> str:\n",
    "        prompt = (\n",
    "            f\"\"\"Você é o cara mais expert do mundo em criação de queries para pesquisas no Google.\n",
    "            Sua tarefa é pegar uma query de um usuário e retornar uma versão otimizada da mesma. \n",
    "            Por favor, não inclua texto extra nem suas explicações, apenas a query otimizada para busca.\n",
    "            Irei te mostrar alguns exemplos, eles estarão separados por `` ``\n",
    "            Um exemplo:\n",
    "            ``\n",
    "            Original: Quantos grammys a cantora Adele ganhou em toda a carreira dela?\n",
    "            Otimizado: Quantidade total de Grammys da cantora Adele``\n",
    "            Outro exemplo:\n",
    "            ``\n",
    "            ``\n",
    "            Original: Treinamento de modelo\n",
    "            Otimizado: Como treinar modelos de machine learning com sklearn\n",
    "            ``\n",
    "            Agora, otimize essa query a seguir:\n",
    "            Original: {query}\n",
    "            Otimizada:\n",
    "            \"\"\"\n",
    "        )\n",
    "\n",
    "        response = llm.invoke(prompt)\n",
    "        return response.content\n",
    "\n",
    "    def search(self, state: State):\n",
    "\n",
    "        search = TavilySearchResults(max_results=2)\n",
    "\n",
    "        optimized_query = self.format_search(state.get('query', \"\")[-1].content)\n",
    "        results = search.invoke(optimized_query)\n",
    "        return {\"research\": [results[0][\"content\"]]}"
   ]
  },
  {
   "cell_type": "code",
   "execution_count": 5,
   "metadata": {},
   "outputs": [],
   "source": [
    "class EditorAgent:\n",
    "    def __init__(self):\n",
    "        pass\n",
    "\n",
    "    def evaluate_research(self, state:State):\n",
    "        query = '\\n'.join(message.content for message in state.get(\"query\"))\n",
    "        print(f\"Query/queries:{query}\")\n",
    "        print(\"-\"*20)\n",
    "\n",
    "        research = '\\n'.join(message.content for message in state.get(\"research\"))\n",
    "        print(f\"Research Content: {research}\")\n",
    "        print(\"-\"*20)\n",
    "\n",
    "        iteration_count = state.get(\"iteration_count\", 1)\n",
    "\n",
    "        if iteration_count is None:\n",
    "            iteration_count = 1\n",
    "\n",
    "        print(f\"Iteration n.: {iteration_count}\")\n",
    "        print(\"-\"*20)\n",
    "\n",
    "        if iteration_count >= 3:\n",
    "            return {\"content_ready\": True}\n",
    "        \n",
    "        prompt = (\n",
    "            f\"\"\"\"You are an expert editor. Your task is to evaluate the research based on the query. \"\n",
    "            \"If the information is sufficient to create a comprehensive and accurate blog post, respond with 'sufficient'. \"\n",
    "            \"If the information is not sufficient, respond with 'insufficient' and provide a new, creative query suggestion to improve the results. \"\n",
    "            \"If the research results appear repetitive or not diverse enough, think about a very different kind of question that could yield more varied and relevant information. \"\n",
    "            \"Consider the depth, relevance, and completeness of the information when making your decision.\\n\\n\"\n",
    "            \"Example 1:\\n\"\n",
    "            \"Used queries: What are the benefits of a Mediterranean diet?\\n\"\n",
    "            \"Research: The Mediterranean diet includes fruits, vegetables, whole grains, and healthy fats.\\n\"\n",
    "            \"Evaluation: Insufficient\\n\"\n",
    "            \"New query: Detailed health benefits of a Mediterranean diet\\n\\n\"\n",
    "            \"Example 2:\\n\"\n",
    "            \"Used queries: How does solar power work?\\n\"\n",
    "            \"Research: Solar power works by converting sunlight into electricity using photovoltaic cells.\\n\"\n",
    "            \"Evaluation: Sufficient\\n\\n\"\n",
    "            \"Example 3:\\n\"\n",
    "            \"Used queries: Effects of climate change on polar bears?\\n\"\n",
    "            \"Research: Climate change is reducing sea ice, affecting polar bear habitats.\\n\"\n",
    "            \"Evaluation: Insufficient\\n\"\n",
    "            \"New query: How are polar bears adapting to the loss of sea ice due to climate change?\\n\\n\"\n",
    "            \"Now evaluate the following:\\n\"\n",
    "            f\"Used queries: {query}\\n\"\n",
    "            f\"Research: {research}\\n\\n\"\n",
    "            \"Evaluation (sufficient/insufficient):\\n\"\n",
    "            \"New query (if insufficient):\"\n",
    "            \"\"\"\n",
    "        )\n",
    "        response = llm.invoke(prompt)\n",
    "        evaluation = response.content.strip()\n",
    "        \n",
    "        # Display the evaluation result for debugging purposes\n",
    "        print(f\"Eval: {evaluation}\")\n",
    "        print(\"-\"*20)\n",
    "        \n",
    "        # Check if a new query is suggested in the evaluation\n",
    "        if \"new query:\" in evaluation.lower():\n",
    "            new_query = evaluation.split(\"New query:\", 1)[-1].strip()\n",
    "            return {\"query\": [new_query], \"iteration_count\": iteration_count + 1}\n",
    "        else:\n",
    "            return {\"content_ready\": True}\n"
   ]
  },
  {
   "cell_type": "code",
   "execution_count": 6,
   "metadata": {},
   "outputs": [],
   "source": [
    "class WriterAgent:\n",
    "    def __init__(self):\n",
    "        pass\n",
    "    \n",
    "    def write_blogpost(self, state: State):\n",
    "        # Extract the original query from the state\n",
    "        query = state.get(\"query\")[0].content\n",
    "        # Combine all research content into a single string\n",
    "        research = '\\n'.join(message.content for message in state.get(\"research\"))\n",
    "        \n",
    "        # Prepare the prompt for the language model to write the blog post\n",
    "        prompt = (\n",
    "            \"You are an expert blog post writer. Your task is to take a given query and context, and write a comprehensive, engaging, and informative short blog post about it. \"\n",
    "            \"Make sure to include an introduction, main body with detailed information, and a conclusion. Use a friendly and accessible tone, and ensure the content is well-structured and easy to read.\\n\\n\"\n",
    "            f\"Query: {query}\\n\\n\"\n",
    "            f\"Context:\\n{research}\\n\\n\"\n",
    "            \"Write a detailed and engaging blog post based on the above query and context.\"\n",
    "        )\n",
    "        \n",
    "        # Invoke the language model with the prompt to generate the blog post\n",
    "        response = llm.invoke(prompt)\n",
    "        \n",
    "        # Return the generated content\n",
    "        return {\"content\": response.content}"
   ]
  },
  {
   "cell_type": "code",
   "execution_count": 7,
   "metadata": {},
   "outputs": [],
   "source": [
    "class TraductorAgent:\n",
    "    def __init__(self):\n",
    "        pass\n",
    "\n",
    "    def traductor_agent(self, state:State):\n",
    "        content = state.get('content')\n",
    "        query = state.get('query')\n",
    "\n",
    "        prompt = (\n",
    "            f\"\"\"You are a expert translator, and your task is identify what is the query language of the user, and translate the response content to,\n",
    "            Example:\n",
    "            ``query: Quantos anos tem Rosalia?\n",
    "            response: Actualmente, la cantante Rosalía es mayor de edad.\n",
    "            translation: Atualmente, a cantora Rosalía é adulta.\n",
    "            ``\n",
    "            ``query: What was Adele's latest album?\n",
    "            response: O último álbum da cantora Adele foi o 30.\n",
    "            translation: Adele's latest album was 30.\n",
    "            ``\n",
    "            Faça isso para a nova query:\n",
    "            'query':\\n{query}\n",
    "            'response':\\n{content}\n",
    "            'translation: '\"\"\"\n",
    "        )\n",
    "\n",
    "        response = llm.invoke(prompt)\n",
    "        print(f\"Translated response: {response.content} \")\n",
    "        \n",
    "        return {\"content\": response.content}\n",
    "    \n"
   ]
  },
  {
   "cell_type": "code",
   "execution_count": 8,
   "metadata": {},
   "outputs": [
    {
     "data": {
      "text/plain": [
       "<langgraph.graph.state.StateGraph at 0x1c8e8dbd2b0>"
      ]
     },
     "execution_count": 8,
     "metadata": {},
     "output_type": "execute_result"
    }
   ],
   "source": [
    "from langgraph.graph import END\n",
    "\n",
    "graph.add_node(\"search_agent\", ResearchAgent().search)\n",
    "graph.add_node(\"writer_agent\", WriterAgent().write_blogpost)\n",
    "graph.add_node(\"editor_agent\", EditorAgent().evaluate_research)\n",
    "graph.add_node(\"traductor_agent\", TraductorAgent().traductor_agent)"
   ]
  },
  {
   "cell_type": "code",
   "execution_count": 9,
   "metadata": {},
   "outputs": [],
   "source": [
    "graph.set_entry_point(\"search_agent\")\n",
    "graph.add_edge(\"search_agent\", \"editor_agent\")\n",
    "graph.add_conditional_edges(\n",
    "    \"editor_agent\",\n",
    "    lambda state: \"accept\" if state.get(\"content_ready\") else \"revise\",\n",
    "    {\n",
    "        \"accept\": \"writer_agent\", # If content is ready, proceed to writer_agent\n",
    "        \"revise\": \"search_agent\" # If content is not ready, go back to search_agent\n",
    "    }\n",
    ")\n",
    "graph.add_edge(\"writer_agent\", \"traductor_agent\")\n",
    "graph.add_edge(\"traductor_agent\",END)\n",
    "graph = graph.compile()"
   ]
  },
  {
   "cell_type": "code",
   "execution_count": 10,
   "metadata": {},
   "outputs": [
    {
     "data": {
      "image/jpeg": "[encoded data removed]",
      "text/plain": [
       "<IPython.core.display.Image object>"
      ]
     },
     "metadata": {},
     "output_type": "display_data"
    }
   ],
   "source": [
    "from IPython.display import Image, display\n",
    "\n",
    "display(Image(graph.get_graph().draw_mermaid_png()))"
   ]
  },
  {
   "cell_type": "code",
   "execution_count": 11,
   "metadata": {},
   "outputs": [
    {
     "name": "stdout",
     "output_type": "stream",
     "text": [
      "Query/queries:¿Cuántos Grammy tiene Adele en su estantería?\n",
      "--------------------\n",
      "Research Content: Grammy Awards: Adele has won multiple Grammy Awards, including Album of the Year for \"21\" and \"25,\" as well as Record of the Year and Song of the Year for songs like \"Rolling in the Deep\" and \"Hello.\"\n",
      "--------------------\n",
      "Iteration n.: 1\n",
      "--------------------\n",
      "Eval: Evaluation: Sufficient\n",
      "\n",
      "New query: N/A\n",
      "--------------------\n",
      "Query/queries:¿Cuántos Grammy tiene Adele en su estantería?\n",
      "N/A\n",
      "--------------------\n",
      "Research Content: Grammy Awards: Adele has won multiple Grammy Awards, including Album of the Year for \"21\" and \"25,\" as well as Record of the Year and Song of the Year for songs like \"Rolling in the Deep\" and \"Hello.\"\n",
      "Aprenda a fazer um bolo de chocolate simples, macio e cremoso com ingredientes fáceis de encontrar. Veja o passo a passo, as dicas e as variações para caprichar na sua receita.\n",
      "--------------------\n",
      "Iteration n.: 2\n",
      "--------------------\n",
      "Eval: Evaluation: Insufficient\n",
      "\n",
      "New query: What are the key achievements and milestones in Adele's career that have contributed to her Grammy success?\n",
      "--------------------\n",
      "Query/queries:¿Cuántos Grammy tiene Adele en su estantería?\n",
      "N/A\n",
      "What are the key achievements and milestones in Adele's career that have contributed to her Grammy success?\n",
      "--------------------\n",
      "Research Content: Grammy Awards: Adele has won multiple Grammy Awards, including Album of the Year for \"21\" and \"25,\" as well as Record of the Year and Song of the Year for songs like \"Rolling in the Deep\" and \"Hello.\"\n",
      "Aprenda a fazer um bolo de chocolate simples, macio e cremoso com ingredientes fáceis de encontrar. Veja o passo a passo, as dicas e as variações para caprichar na sua receita.\n",
      "Quais São as Conquistas de Adele Como Artista? A lista de conquistas de Adele é vasta e impressionante. Alguns dos destaques incluem: 14 Grammy Awards: Adele é uma recordista no Grammy, tendo levado para casa prêmios em categorias principais como Álbum do Ano e Canção do Ano. 11 Brit Awards: Reconhecimento no cenário musical britânico ...\n",
      "--------------------\n",
      "Iteration n.: 3\n",
      "--------------------\n",
      "Translated to the query language response: 'query':\n",
      "[HumanMessage(content='¿Cuántos Grammy tiene Adele en su estantería?', additional_kwargs={}, response_metadata={}, id='817603dc-9306-41d2-8760-08997d6241c6'), HumanMessage(content='N/A', additional_kwargs={}, response_metadata={}, id='d6f337c1-1e9d-444a-b760-e14f473d2cce'), HumanMessage(content=\"What are the key achievements and milestones in Adele's career that have contributed to her Grammy success?\", additional_kwargs={}, response_metadata={}, id='eb69df75-afcd-4a18-bfac-cdab223e69b6')]\n",
      "'response':\n",
      "Adele is undoubtedly one of the most talented and successful artists of our time. With her powerful voice and emotional lyrics, she has captured the hearts of millions of fans around the world. One of the many ways in which Adele's talent has been recognized is through the prestigious Grammy Awards.\n",
      "\n",
      "So, how many Grammy Awards does Adele have on her shelf? Well, the answer is an impressive 14! Adele has won multiple Grammy Awards throughout her career, including Album of the Year for both \"21\" and \"25,\" as well as Record of the Year and Song of the Year for hits like \"Rolling in the Deep\" and \"Hello.\" Her incredible vocal range and heartfelt performances have earned her a well-deserved place among the music industry's elite.\n",
      "\n",
      "In addition to her Grammy Awards, Adele has also been recognized with 11 Brit Awards, further solidifying her status as a musical powerhouse. Her list of achievements goes on and on, with countless chart-topping hits and sold-out concerts to her name.\n",
      "\n",
      "Adele's success as an artist is a testament to her undeniable talent and hard work. Her ability to connect with audiences on a deep emotional level sets her apart from the rest, making her a true icon in the music industry.\n",
      "\n",
      "In conclusion, Adele's Grammy Awards are just one of the many accolades she has received throughout her career. With her incredible voice, heartfelt lyrics, and undeniable talent, Adele continues to captivate audiences and inspire fans around the world. We can't wait to see what she has in store for us next!\n",
      "'translation: ¿Cuántos premios Grammy tiene Adele en su estantería? Bueno, la respuesta es impresionante 14! Adele ha ganado múltiples premios Grammy a lo largo de su carrera, incluyendo Álbum del Año tanto para \"21\" como para \"25\", así como Grabación del Año y Canción del Año por éxitos como \"Rolling in the Deep\" y \"Hello\". Su increíble rango vocal y actuaciones sinceras le han valido un lugar bien merecido entre la élite de la industria musical. Además de sus premios Grammy, Adele también ha sido reconocida con 11 premios Brit, solidificando aún más su estatus como una potencia musical. Su lista de logros continúa, con innumerables éxitos en las listas de éxitos y conciertos agotados a su nombre. El éxito de Adele como artista es un testimonio de su talento innegable y su arduo trabajo. Su capacidad para conectar con el público a un nivel emocional profundo la distingue del resto, convirtiéndola en un verdadero ícono de la industria musical. En conclusión, los premios Grammy de Adele son solo uno de los muchos reconocimientos que ha recibido a lo largo de su carrera. Con su increíble voz, letras sinceras y talento innegable, Adele continúa cautivando a audiencias e inspirando a fans de todo el mundo. ¡No podemos esperar a ver qué nos tiene preparado para el futuro! \n"
     ]
    }
   ],
   "source": [
    "blogpost = graph.invoke({\"query\":\"¿Cuántos Grammy tiene Adele en su estantería?\"})\n"
   ]
  },
  {
   "cell_type": "code",
   "execution_count": 12,
   "metadata": {},
   "outputs": [
    {
     "name": "stdout",
     "output_type": "stream",
     "text": [
      "Query/queries:Quantos grammys a Adele tem na estante?\n",
      "--------------------\n",
      "Research Content: Veja a lista! - OFuxico. NOTÍCIAS. Adele é a grande vencedora do Prêmio Grammy Awards. Veja a lista! Por Redação - 13/02/12 às 08:15. Como já era esperado, Adele faturou seis prêmios na ...\n",
      "--------------------\n",
      "Iteration n.: 1\n",
      "--------------------\n",
      "Eval: Evaluation: Insufficient\n",
      "\n",
      "New query: What are the categories in which Adele won her Grammy Awards?\n",
      "--------------------\n",
      "Query/queries:Quantos grammys a Adele tem na estante?\n",
      "What are the categories in which Adele won her Grammy Awards?\n",
      "--------------------\n",
      "Research Content: Veja a lista! - OFuxico. NOTÍCIAS. Adele é a grande vencedora do Prêmio Grammy Awards. Veja a lista! Por Redação - 13/02/12 às 08:15. Como já era esperado, Adele faturou seis prêmios na ...\n",
      "Adele e David Bowie levaram todos os prêmios aos quais concorriam na 59ª edição do Grammy Mostrar Aviso. EXAME - Negócios, Economia, Tecnologia e Carreira. Assinar. Entrar. Acesse o melhor conteúdo do seu dia, o único que você precisa. ... A cantora Adele foi a grande vencedora do Grammy, ao triunfar em cinco categorias. Segue abaixo a ...\n",
      "--------------------\n",
      "Iteration n.: 2\n",
      "--------------------\n",
      "Eval: Evaluation: Insufficient\n",
      "\n",
      "New query: What are the specific categories in which Adele won her Grammy Awards and how many awards did she win in each category?\n",
      "--------------------\n",
      "Query/queries:Quantos grammys a Adele tem na estante?\n",
      "What are the categories in which Adele won her Grammy Awards?\n",
      "What are the specific categories in which Adele won her Grammy Awards and how many awards did she win in each category?\n",
      "--------------------\n",
      "Research Content: Veja a lista! - OFuxico. NOTÍCIAS. Adele é a grande vencedora do Prêmio Grammy Awards. Veja a lista! Por Redação - 13/02/12 às 08:15. Como já era esperado, Adele faturou seis prêmios na ...\n",
      "Adele e David Bowie levaram todos os prêmios aos quais concorriam na 59ª edição do Grammy Mostrar Aviso. EXAME - Negócios, Economia, Tecnologia e Carreira. Assinar. Entrar. Acesse o melhor conteúdo do seu dia, o único que você precisa. ... A cantora Adele foi a grande vencedora do Grammy, ao triunfar em cinco categorias. Segue abaixo a ...\n",
      "English singer-songwriter Adele has received various awards and nominations. She is the recipient of sixteen Grammy Awards, an Academy Award, a Primetime Emmy Award, a Golden Globe Award, eighteen Billboard Music Awards, twelve Brit Awards, five American Music Awards, and two Ivor Novello Awards, each for Songwriter of the Year.. Adele signed a contract with the record label XL Recordings in ...\n",
      "--------------------\n",
      "Iteration n.: 3\n",
      "--------------------\n",
      "Translated to the query language response: 'query':\n",
      "[HumanMessage(content='Quantos grammys a Adele tem na estante?', additional_kwargs={}, response_metadata={}, id='6be21099-8096-450e-9492-ae276b1e6e63'), HumanMessage(content='What are the categories in which Adele won her Grammy Awards?', additional_kwargs={}, response_metadata={}, id='80858eb2-f367-44f9-9c8c-c33a54e8a1e0'), HumanMessage(content='What are the specific categories in which Adele won her Grammy Awards and how many awards did she win in each category?', additional_kwargs={}, response_metadata={}, id='e2fb129e-635f-40fe-a767-85a0d44d65f9')]\n",
      "            'response':\n",
      "Adele is undoubtedly one of the most talented and successful artists of our time. With her powerful voice and emotional lyrics, she has captured the hearts of millions of fans around the world. But just how many Grammy Awards does this British songstress have on her shelf?\n",
      "\n",
      "Well, the answer is quite impressive - Adele has a total of sixteen Grammy Awards to her name! That's right, sixteen! This incredible achievement solidifies her status as one of the most decorated artists in Grammy history.\n",
      "\n",
      "Adele's Grammy wins span across various categories, showcasing her versatility and talent. From Best New Artist to Album of the Year, Adele has proven time and time again that she is a force to be reckoned with in the music industry.\n",
      "\n",
      "In addition to her Grammy Awards, Adele has also been honored with numerous other prestigious accolades, including an Academy Award, a Golden Globe Award, and multiple Brit Awards. Her list of achievements is truly remarkable and a testament to her exceptional talent and hard work.\n",
      "\n",
      "It's no wonder that Adele's music resonates with so many people - her soulful voice and heartfelt lyrics have a way of touching the hearts of listeners in a profound way. Whether she's belting out a powerful ballad or delivering a heartfelt love song, Adele's music has a universal appeal that transcends genres and generations.\n",
      "\n",
      "In conclusion, Adele's sixteen Grammy Awards are a testament to her incredible talent and dedication to her craft. With each award, she solidifies her place as one of the greatest artists of our time. We can't wait to see what the future holds for this remarkable singer-songwriter, and we'll be eagerly awaiting her next masterpiece. Adele, you truly are a music legend!\n",
      "            'translation: 'Adele é sem dúvida uma das artistas mais talentosas e bem-sucedidas do nosso tempo. Com sua voz poderosa e letras emocionais, ela conquistou os corações de milhões de fãs ao redor do mundo. Mas quantos prêmios Grammy essa cantora britânica tem em sua estante?\n",
      "\n",
      "Bem, a resposta é bastante impressionante - Adele tem um total de dezesseis prêmios Grammy em seu nome! Isso mesmo, dezesseis! Essa conquista incrível solidifica seu status como uma das artistas mais premiadas na história do Grammy.\n",
      "\n",
      "As vitórias de Adele no Grammy abrangem várias categorias, mostrando sua versatilidade e talento. Desde Melhor Artista Revelação até Álbum do Ano, Adele provou repetidamente que é uma força a ser reconhecida na indústria musical.\n",
      "\n",
      "Além de seus prêmios Grammy, Adele também foi homenageada com numerosos outros prêmios prestigiosos, incluindo um Oscar, um Globo de Ouro e vários Brit Awards. Sua lista de conquistas é verdadeiramente notável e um testemunho de seu talento excepcional e trabalho árduo.\n",
      "\n",
      "Não é de admirar que a música de Adele ressoe com tantas pessoas - sua voz soulful e letras sinceras têm uma maneira de tocar os corações dos ouvintes de forma profunda. Seja ela cantando uma balada poderosa ou entregando uma canção de amor sincera, a música de Adele tem um apelo universal que transcende gêneros e gerações.\n",
      "\n",
      "Em conclusão, os dezesseis prêmios Grammy de Adele são um testemunho de seu talento incrível e dedicação à sua arte. Com cada prêmio, ela solidifica seu lugar como uma das maiores artistas de nosso tempo. Mal podemos esperar para ver o que o futuro reserva para esta notável cantora e compositora, e estaremos ansiosos por sua próxima obra-prima. Adele, você realmente é uma lenda da música!' \n"
     ]
    }
   ],
   "source": [
    "blogpost = graph.invoke({\"query\":\"Quantos grammys a Adele tem na estante?\"})\n"
   ]
  }
 ],
 "metadata": {
  "kernelspec": {
   "display_name": "langgraph",
   "language": "python",
   "name": "python3"
  },
  "language_info": {
   "codemirror_mode": {
    "name": "ipython",
    "version": 3
   },
   "file_extension": ".py",
   "mimetype": "text/x-python",
   "name": "python",
   "nbconvert_exporter": "python",
   "pygments_lexer": "ipython3",
   "version": "3.12.5"
  }
 },
 "nbformat": 4,
 "nbformat_minor": 2
}
